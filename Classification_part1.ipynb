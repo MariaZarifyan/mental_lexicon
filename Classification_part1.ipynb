{
 "cells": [
  {
   "cell_type": "code",
   "execution_count": 1,
   "metadata": {},
   "outputs": [],
   "source": [
    "import pandas as pd\n",
    "import matplotlib.pyplot as plt"
   ]
  },
  {
   "cell_type": "code",
   "execution_count": 2,
   "metadata": {},
   "outputs": [],
   "source": [
    "df = pd.read_csv(\"results.csv\")"
   ]
  },
  {
   "cell_type": "code",
   "execution_count": 3,
   "metadata": {},
   "outputs": [],
   "source": [
    "cx = pd.read_csv(\"contexts.csv\")"
   ]
  },
  {
   "cell_type": "code",
   "execution_count": 4,
   "metadata": {},
   "outputs": [
    {
     "data": {
      "text/html": [
       "<div>\n",
       "<style scoped>\n",
       "    .dataframe tbody tr th:only-of-type {\n",
       "        vertical-align: middle;\n",
       "    }\n",
       "\n",
       "    .dataframe tbody tr th {\n",
       "        vertical-align: top;\n",
       "    }\n",
       "\n",
       "    .dataframe thead th {\n",
       "        text-align: right;\n",
       "    }\n",
       "</style>\n",
       "<table border=\"1\" class=\"dataframe\">\n",
       "  <thead>\n",
       "    <tr style=\"text-align: right;\">\n",
       "      <th></th>\n",
       "      <th>participant</th>\n",
       "      <th>cs</th>\n",
       "      <th>word</th>\n",
       "      <th>group</th>\n",
       "      <th>contexts</th>\n",
       "    </tr>\n",
       "  </thead>\n",
       "  <tbody>\n",
       "    <tr>\n",
       "      <th>0</th>\n",
       "      <td>277a058c-6372-4840-8b1d-2ac2bac3d5e1</td>\n",
       "      <td>36</td>\n",
       "      <td>наглый</td>\n",
       "      <td>close_close_meton</td>\n",
       "      <td>243 244</td>\n",
       "    </tr>\n",
       "    <tr>\n",
       "      <th>1</th>\n",
       "      <td>277a058c-6372-4840-8b1d-2ac2bac3d5e1</td>\n",
       "      <td>36</td>\n",
       "      <td>наглый</td>\n",
       "      <td>close_close_meton</td>\n",
       "      <td>245 246</td>\n",
       "    </tr>\n",
       "    <tr>\n",
       "      <th>2</th>\n",
       "      <td>277a058c-6372-4840-8b1d-2ac2bac3d5e1</td>\n",
       "      <td>36</td>\n",
       "      <td>наглый</td>\n",
       "      <td>close_close_meton</td>\n",
       "      <td>248 249 247</td>\n",
       "    </tr>\n",
       "    <tr>\n",
       "      <th>3</th>\n",
       "      <td>277a058c-6372-4840-8b1d-2ac2bac3d5e1</td>\n",
       "      <td>37</td>\n",
       "      <td>внимательный</td>\n",
       "      <td>close_close_meton</td>\n",
       "      <td>250 252</td>\n",
       "    </tr>\n",
       "    <tr>\n",
       "      <th>4</th>\n",
       "      <td>277a058c-6372-4840-8b1d-2ac2bac3d5e1</td>\n",
       "      <td>37</td>\n",
       "      <td>внимательный</td>\n",
       "      <td>close_close_meton</td>\n",
       "      <td>256 251 254</td>\n",
       "    </tr>\n",
       "  </tbody>\n",
       "</table>\n",
       "</div>"
      ],
      "text/plain": [
       "                            participant  cs          word              group  \\\n",
       "0  277a058c-6372-4840-8b1d-2ac2bac3d5e1  36        наглый  close_close_meton   \n",
       "1  277a058c-6372-4840-8b1d-2ac2bac3d5e1  36        наглый  close_close_meton   \n",
       "2  277a058c-6372-4840-8b1d-2ac2bac3d5e1  36        наглый  close_close_meton   \n",
       "3  277a058c-6372-4840-8b1d-2ac2bac3d5e1  37  внимательный  close_close_meton   \n",
       "4  277a058c-6372-4840-8b1d-2ac2bac3d5e1  37  внимательный  close_close_meton   \n",
       "\n",
       "      contexts  \n",
       "0      243 244  \n",
       "1      245 246  \n",
       "2  248 249 247  \n",
       "3      250 252  \n",
       "4  256 251 254  "
      ]
     },
     "execution_count": 4,
     "metadata": {},
     "output_type": "execute_result"
    }
   ],
   "source": [
    "df = df.drop([\"source\", \"is_filler\"], axis = 1)\n",
    "df.head()"
   ]
  },
  {
   "cell_type": "code",
   "execution_count": 5,
   "metadata": {},
   "outputs": [],
   "source": [
    "d = dict(zip(cx.id,cx.derivation)) #dictionary with key - stimulusID : value - derivation"
   ]
  },
  {
   "cell_type": "code",
   "execution_count": 6,
   "metadata": {},
   "outputs": [],
   "source": [
    "d_sent = dict(zip(cx.id,cx.text))"
   ]
  },
  {
   "cell_type": "code",
   "execution_count": 7,
   "metadata": {},
   "outputs": [],
   "source": [
    "def context_split(basket):\n",
    "    basket_split =  [word.split() for word in basket]\n",
    "    new_basket = [[int(stimulus) for stimulus in stimuli] for stimuli in basket_split]\n",
    "    return new_basket\n",
    "\n",
    "df.contexts = context_split(df.contexts)"
   ]
  },
  {
   "cell_type": "code",
   "execution_count": 8,
   "metadata": {},
   "outputs": [
    {
     "data": {
      "text/html": [
       "<div>\n",
       "<style scoped>\n",
       "    .dataframe tbody tr th:only-of-type {\n",
       "        vertical-align: middle;\n",
       "    }\n",
       "\n",
       "    .dataframe tbody tr th {\n",
       "        vertical-align: top;\n",
       "    }\n",
       "\n",
       "    .dataframe thead th {\n",
       "        text-align: right;\n",
       "    }\n",
       "</style>\n",
       "<table border=\"1\" class=\"dataframe\">\n",
       "  <thead>\n",
       "    <tr style=\"text-align: right;\">\n",
       "      <th></th>\n",
       "      <th>participant</th>\n",
       "      <th>cs</th>\n",
       "      <th>word</th>\n",
       "      <th>group</th>\n",
       "      <th>contexts</th>\n",
       "    </tr>\n",
       "  </thead>\n",
       "  <tbody>\n",
       "    <tr>\n",
       "      <th>0</th>\n",
       "      <td>277a058c-6372-4840-8b1d-2ac2bac3d5e1</td>\n",
       "      <td>36</td>\n",
       "      <td>наглый</td>\n",
       "      <td>close_close_meton</td>\n",
       "      <td>[243, 244]</td>\n",
       "    </tr>\n",
       "    <tr>\n",
       "      <th>1</th>\n",
       "      <td>277a058c-6372-4840-8b1d-2ac2bac3d5e1</td>\n",
       "      <td>36</td>\n",
       "      <td>наглый</td>\n",
       "      <td>close_close_meton</td>\n",
       "      <td>[245, 246]</td>\n",
       "    </tr>\n",
       "  </tbody>\n",
       "</table>\n",
       "</div>"
      ],
      "text/plain": [
       "                            participant  cs    word              group  \\\n",
       "0  277a058c-6372-4840-8b1d-2ac2bac3d5e1  36  наглый  close_close_meton   \n",
       "1  277a058c-6372-4840-8b1d-2ac2bac3d5e1  36  наглый  close_close_meton   \n",
       "\n",
       "     contexts  \n",
       "0  [243, 244]  \n",
       "1  [245, 246]  "
      ]
     },
     "execution_count": 8,
     "metadata": {},
     "output_type": "execute_result"
    }
   ],
   "source": [
    "df.head(2) # now column context is a list of integers, not a string "
   ]
  },
  {
   "cell_type": "code",
   "execution_count": 9,
   "metadata": {},
   "outputs": [
    {
     "data": {
      "text/html": [
       "<div>\n",
       "<style scoped>\n",
       "    .dataframe tbody tr th:only-of-type {\n",
       "        vertical-align: middle;\n",
       "    }\n",
       "\n",
       "    .dataframe tbody tr th {\n",
       "        vertical-align: top;\n",
       "    }\n",
       "\n",
       "    .dataframe thead th {\n",
       "        text-align: right;\n",
       "    }\n",
       "</style>\n",
       "<table border=\"1\" class=\"dataframe\">\n",
       "  <thead>\n",
       "    <tr style=\"text-align: right;\">\n",
       "      <th></th>\n",
       "      <th>id</th>\n",
       "      <th>cs</th>\n",
       "      <th>derivation</th>\n",
       "      <th>text</th>\n",
       "    </tr>\n",
       "  </thead>\n",
       "  <tbody>\n",
       "    <tr>\n",
       "      <th>0</th>\n",
       "      <td>1</td>\n",
       "      <td>1</td>\n",
       "      <td>metonymy</td>\n",
       "      <td>У него были маленькие злые глазки.</td>\n",
       "    </tr>\n",
       "    <tr>\n",
       "      <th>1</th>\n",
       "      <td>9</td>\n",
       "      <td>2</td>\n",
       "      <td>homonym1</td>\n",
       "      <td>Повышение по службе дало надежды на карьерный ...</td>\n",
       "    </tr>\n",
       "    <tr>\n",
       "      <th>2</th>\n",
       "      <td>18</td>\n",
       "      <td>3</td>\n",
       "      <td>literal</td>\n",
       "      <td>В этом году английский у нас преподает нервна...</td>\n",
       "    </tr>\n",
       "    <tr>\n",
       "      <th>3</th>\n",
       "      <td>25</td>\n",
       "      <td>4</td>\n",
       "      <td>homonym1</td>\n",
       "      <td>Наша задача ― посеять на лугах и пастбищах нов...</td>\n",
       "    </tr>\n",
       "    <tr>\n",
       "      <th>4</th>\n",
       "      <td>32</td>\n",
       "      <td>5</td>\n",
       "      <td>literal</td>\n",
       "      <td>В ходе расследования выяснилось, что водитель ...</td>\n",
       "    </tr>\n",
       "  </tbody>\n",
       "</table>\n",
       "</div>"
      ],
      "text/plain": [
       "   id  cs derivation                                               text\n",
       "0   1   1   metonymy                 У него были маленькие злые глазки.\n",
       "1   9   2   homonym1  Повышение по службе дало надежды на карьерный ...\n",
       "2  18   3    literal   В этом году английский у нас преподает нервна...\n",
       "3  25   4   homonym1  Наша задача ― посеять на лугах и пастбищах нов...\n",
       "4  32   5    literal  В ходе расследования выяснилось, что водитель ..."
      ]
     },
     "execution_count": 9,
     "metadata": {},
     "output_type": "execute_result"
    }
   ],
   "source": [
    "cx.head()"
   ]
  },
  {
   "cell_type": "code",
   "execution_count": 10,
   "metadata": {},
   "outputs": [],
   "source": [
    "labels = [[d[stimulus] for stimulus in stimuli] for stimuli in df.contexts]"
   ]
  },
  {
   "cell_type": "code",
   "execution_count": 11,
   "metadata": {},
   "outputs": [],
   "source": [
    "pd_labels = pd.Series(labels)"
   ]
  },
  {
   "cell_type": "code",
   "execution_count": 12,
   "metadata": {},
   "outputs": [],
   "source": [
    "df[\"labels\"] = pd_labels"
   ]
  },
  {
   "cell_type": "markdown",
   "metadata": {},
   "source": [
    "Одна строка = одна корзина. В колонке labels теперь лежат значения тех стимулов, которые человек положил в одну корзину "
   ]
  },
  {
   "cell_type": "code",
   "execution_count": 14,
   "metadata": {},
   "outputs": [],
   "source": [
    "df.labels = [[sense.strip() for sense in senses] for senses in df.labels]"
   ]
  },
  {
   "cell_type": "code",
   "execution_count": 15,
   "metadata": {},
   "outputs": [
    {
     "data": {
      "text/html": [
       "<div>\n",
       "<style scoped>\n",
       "    .dataframe tbody tr th:only-of-type {\n",
       "        vertical-align: middle;\n",
       "    }\n",
       "\n",
       "    .dataframe tbody tr th {\n",
       "        vertical-align: top;\n",
       "    }\n",
       "\n",
       "    .dataframe thead th {\n",
       "        text-align: right;\n",
       "    }\n",
       "</style>\n",
       "<table border=\"1\" class=\"dataframe\">\n",
       "  <thead>\n",
       "    <tr style=\"text-align: right;\">\n",
       "      <th></th>\n",
       "      <th>participant</th>\n",
       "      <th>cs</th>\n",
       "      <th>word</th>\n",
       "      <th>group</th>\n",
       "      <th>contexts</th>\n",
       "      <th>labels</th>\n",
       "    </tr>\n",
       "  </thead>\n",
       "  <tbody>\n",
       "    <tr>\n",
       "      <th>0</th>\n",
       "      <td>277a058c-6372-4840-8b1d-2ac2bac3d5e1</td>\n",
       "      <td>36</td>\n",
       "      <td>наглый</td>\n",
       "      <td>close_close_meton</td>\n",
       "      <td>[243, 244]</td>\n",
       "      <td>[literal, literal]</td>\n",
       "    </tr>\n",
       "    <tr>\n",
       "      <th>1</th>\n",
       "      <td>277a058c-6372-4840-8b1d-2ac2bac3d5e1</td>\n",
       "      <td>36</td>\n",
       "      <td>наглый</td>\n",
       "      <td>close_close_meton</td>\n",
       "      <td>[245, 246]</td>\n",
       "      <td>[metonymy_1, metonymy_1]</td>\n",
       "    </tr>\n",
       "    <tr>\n",
       "      <th>2</th>\n",
       "      <td>277a058c-6372-4840-8b1d-2ac2bac3d5e1</td>\n",
       "      <td>36</td>\n",
       "      <td>наглый</td>\n",
       "      <td>close_close_meton</td>\n",
       "      <td>[248, 249, 247]</td>\n",
       "      <td>[metonymy_2, metonymy_2, metonymy_2]</td>\n",
       "    </tr>\n",
       "    <tr>\n",
       "      <th>3</th>\n",
       "      <td>277a058c-6372-4840-8b1d-2ac2bac3d5e1</td>\n",
       "      <td>37</td>\n",
       "      <td>внимательный</td>\n",
       "      <td>close_close_meton</td>\n",
       "      <td>[250, 252]</td>\n",
       "      <td>[metonymy_1, metonymy_1]</td>\n",
       "    </tr>\n",
       "    <tr>\n",
       "      <th>4</th>\n",
       "      <td>277a058c-6372-4840-8b1d-2ac2bac3d5e1</td>\n",
       "      <td>37</td>\n",
       "      <td>внимательный</td>\n",
       "      <td>close_close_meton</td>\n",
       "      <td>[256, 251, 254]</td>\n",
       "      <td>[metonymy_2, literal, literal]</td>\n",
       "    </tr>\n",
       "    <tr>\n",
       "      <th>5</th>\n",
       "      <td>277a058c-6372-4840-8b1d-2ac2bac3d5e1</td>\n",
       "      <td>37</td>\n",
       "      <td>внимательный</td>\n",
       "      <td>close_close_meton</td>\n",
       "      <td>[253, 255]</td>\n",
       "      <td>[metonymy_2, metonymy_2]</td>\n",
       "    </tr>\n",
       "    <tr>\n",
       "      <th>6</th>\n",
       "      <td>277a058c-6372-4840-8b1d-2ac2bac3d5e1</td>\n",
       "      <td>37</td>\n",
       "      <td>внимательный</td>\n",
       "      <td>close_close_meton</td>\n",
       "      <td>[257]</td>\n",
       "      <td>[metonymy_2]</td>\n",
       "    </tr>\n",
       "    <tr>\n",
       "      <th>7</th>\n",
       "      <td>277a058c-6372-4840-8b1d-2ac2bac3d5e1</td>\n",
       "      <td>6</td>\n",
       "      <td>строгий</td>\n",
       "      <td>close_meton</td>\n",
       "      <td>[40, 39]</td>\n",
       "      <td>[literal, literal]</td>\n",
       "    </tr>\n",
       "    <tr>\n",
       "      <th>8</th>\n",
       "      <td>277a058c-6372-4840-8b1d-2ac2bac3d5e1</td>\n",
       "      <td>6</td>\n",
       "      <td>строгий</td>\n",
       "      <td>close_meton</td>\n",
       "      <td>[42, 43]</td>\n",
       "      <td>[metaphor, metaphor]</td>\n",
       "    </tr>\n",
       "    <tr>\n",
       "      <th>9</th>\n",
       "      <td>277a058c-6372-4840-8b1d-2ac2bac3d5e1</td>\n",
       "      <td>6</td>\n",
       "      <td>строгий</td>\n",
       "      <td>close_meton</td>\n",
       "      <td>[41, 44]</td>\n",
       "      <td>[metonymy, metonymy]</td>\n",
       "    </tr>\n",
       "    <tr>\n",
       "      <th>10</th>\n",
       "      <td>277a058c-6372-4840-8b1d-2ac2bac3d5e1</td>\n",
       "      <td>38</td>\n",
       "      <td>наивный</td>\n",
       "      <td>close_close_meton</td>\n",
       "      <td>[258, 262]</td>\n",
       "      <td>[literal, literal]</td>\n",
       "    </tr>\n",
       "    <tr>\n",
       "      <th>11</th>\n",
       "      <td>277a058c-6372-4840-8b1d-2ac2bac3d5e1</td>\n",
       "      <td>38</td>\n",
       "      <td>наивный</td>\n",
       "      <td>close_close_meton</td>\n",
       "      <td>[264, 260, 261, 263]</td>\n",
       "      <td>[metonymy_1, metonymy_1, metonymy_1, metonymy_2]</td>\n",
       "    </tr>\n",
       "    <tr>\n",
       "      <th>12</th>\n",
       "      <td>277a058c-6372-4840-8b1d-2ac2bac3d5e1</td>\n",
       "      <td>38</td>\n",
       "      <td>наивный</td>\n",
       "      <td>close_close_meton</td>\n",
       "      <td>[265, 259]</td>\n",
       "      <td>[metonymy_2, metonymy_2]</td>\n",
       "    </tr>\n",
       "    <tr>\n",
       "      <th>13</th>\n",
       "      <td>277a058c-6372-4840-8b1d-2ac2bac3d5e1</td>\n",
       "      <td>31</td>\n",
       "      <td>беспокойный</td>\n",
       "      <td>close_far_meton</td>\n",
       "      <td>[209, 210, 205]</td>\n",
       "      <td>[literal, metonymy_f, literal]</td>\n",
       "    </tr>\n",
       "    <tr>\n",
       "      <th>14</th>\n",
       "      <td>277a058c-6372-4840-8b1d-2ac2bac3d5e1</td>\n",
       "      <td>31</td>\n",
       "      <td>беспокойный</td>\n",
       "      <td>close_far_meton</td>\n",
       "      <td>[211, 206]</td>\n",
       "      <td>[metonymy_c, metonymy_c]</td>\n",
       "    </tr>\n",
       "    <tr>\n",
       "      <th>15</th>\n",
       "      <td>277a058c-6372-4840-8b1d-2ac2bac3d5e1</td>\n",
       "      <td>31</td>\n",
       "      <td>беспокойный</td>\n",
       "      <td>close_far_meton</td>\n",
       "      <td>[208, 212, 207]</td>\n",
       "      <td>[metonymy_f, metonymy_f, literal]</td>\n",
       "    </tr>\n",
       "    <tr>\n",
       "      <th>16</th>\n",
       "      <td>277a058c-6372-4840-8b1d-2ac2bac3d5e1</td>\n",
       "      <td>30</td>\n",
       "      <td>любопытный</td>\n",
       "      <td>close_far_meton</td>\n",
       "      <td>[203, 199]</td>\n",
       "      <td>[metonymy_f, metonymy_f]</td>\n",
       "    </tr>\n",
       "    <tr>\n",
       "      <th>17</th>\n",
       "      <td>277a058c-6372-4840-8b1d-2ac2bac3d5e1</td>\n",
       "      <td>30</td>\n",
       "      <td>любопытный</td>\n",
       "      <td>close_far_meton</td>\n",
       "      <td>[200, 201, 202, 204]</td>\n",
       "      <td>[metonymy_c, metonymy_c, literal, literal]</td>\n",
       "    </tr>\n",
       "    <tr>\n",
       "      <th>18</th>\n",
       "      <td>6d95f5d4-7b88-48f9-b239-b7db98ace329</td>\n",
       "      <td>24</td>\n",
       "      <td>беззаботный</td>\n",
       "      <td>close_far_meton</td>\n",
       "      <td>[152, 153, 154, 156, 157, 158]</td>\n",
       "      <td>[literal, metonymy_f, literal, metonymy_f, met...</td>\n",
       "    </tr>\n",
       "    <tr>\n",
       "      <th>19</th>\n",
       "      <td>6d95f5d4-7b88-48f9-b239-b7db98ace329</td>\n",
       "      <td>24</td>\n",
       "      <td>беззаботный</td>\n",
       "      <td>close_far_meton</td>\n",
       "      <td>[159, 155, 151]</td>\n",
       "      <td>[metonymy_c, metonymy_c, metonymy_c]</td>\n",
       "    </tr>\n",
       "  </tbody>\n",
       "</table>\n",
       "</div>"
      ],
      "text/plain": [
       "                             participant  cs          word              group  \\\n",
       "0   277a058c-6372-4840-8b1d-2ac2bac3d5e1  36        наглый  close_close_meton   \n",
       "1   277a058c-6372-4840-8b1d-2ac2bac3d5e1  36        наглый  close_close_meton   \n",
       "2   277a058c-6372-4840-8b1d-2ac2bac3d5e1  36        наглый  close_close_meton   \n",
       "3   277a058c-6372-4840-8b1d-2ac2bac3d5e1  37  внимательный  close_close_meton   \n",
       "4   277a058c-6372-4840-8b1d-2ac2bac3d5e1  37  внимательный  close_close_meton   \n",
       "5   277a058c-6372-4840-8b1d-2ac2bac3d5e1  37  внимательный  close_close_meton   \n",
       "6   277a058c-6372-4840-8b1d-2ac2bac3d5e1  37  внимательный  close_close_meton   \n",
       "7   277a058c-6372-4840-8b1d-2ac2bac3d5e1   6       строгий        close_meton   \n",
       "8   277a058c-6372-4840-8b1d-2ac2bac3d5e1   6       строгий        close_meton   \n",
       "9   277a058c-6372-4840-8b1d-2ac2bac3d5e1   6       строгий        close_meton   \n",
       "10  277a058c-6372-4840-8b1d-2ac2bac3d5e1  38       наивный  close_close_meton   \n",
       "11  277a058c-6372-4840-8b1d-2ac2bac3d5e1  38       наивный  close_close_meton   \n",
       "12  277a058c-6372-4840-8b1d-2ac2bac3d5e1  38       наивный  close_close_meton   \n",
       "13  277a058c-6372-4840-8b1d-2ac2bac3d5e1  31   беспокойный    close_far_meton   \n",
       "14  277a058c-6372-4840-8b1d-2ac2bac3d5e1  31   беспокойный    close_far_meton   \n",
       "15  277a058c-6372-4840-8b1d-2ac2bac3d5e1  31   беспокойный    close_far_meton   \n",
       "16  277a058c-6372-4840-8b1d-2ac2bac3d5e1  30    любопытный    close_far_meton   \n",
       "17  277a058c-6372-4840-8b1d-2ac2bac3d5e1  30    любопытный    close_far_meton   \n",
       "18  6d95f5d4-7b88-48f9-b239-b7db98ace329  24   беззаботный    close_far_meton   \n",
       "19  6d95f5d4-7b88-48f9-b239-b7db98ace329  24   беззаботный    close_far_meton   \n",
       "\n",
       "                          contexts  \\\n",
       "0                       [243, 244]   \n",
       "1                       [245, 246]   \n",
       "2                  [248, 249, 247]   \n",
       "3                       [250, 252]   \n",
       "4                  [256, 251, 254]   \n",
       "5                       [253, 255]   \n",
       "6                            [257]   \n",
       "7                         [40, 39]   \n",
       "8                         [42, 43]   \n",
       "9                         [41, 44]   \n",
       "10                      [258, 262]   \n",
       "11            [264, 260, 261, 263]   \n",
       "12                      [265, 259]   \n",
       "13                 [209, 210, 205]   \n",
       "14                      [211, 206]   \n",
       "15                 [208, 212, 207]   \n",
       "16                      [203, 199]   \n",
       "17            [200, 201, 202, 204]   \n",
       "18  [152, 153, 154, 156, 157, 158]   \n",
       "19                 [159, 155, 151]   \n",
       "\n",
       "                                               labels  \n",
       "0                                  [literal, literal]  \n",
       "1                            [metonymy_1, metonymy_1]  \n",
       "2                [metonymy_2, metonymy_2, metonymy_2]  \n",
       "3                            [metonymy_1, metonymy_1]  \n",
       "4                      [metonymy_2, literal, literal]  \n",
       "5                            [metonymy_2, metonymy_2]  \n",
       "6                                        [metonymy_2]  \n",
       "7                                  [literal, literal]  \n",
       "8                                [metaphor, metaphor]  \n",
       "9                                [metonymy, metonymy]  \n",
       "10                                 [literal, literal]  \n",
       "11   [metonymy_1, metonymy_1, metonymy_1, metonymy_2]  \n",
       "12                           [metonymy_2, metonymy_2]  \n",
       "13                     [literal, metonymy_f, literal]  \n",
       "14                           [metonymy_c, metonymy_c]  \n",
       "15                  [metonymy_f, metonymy_f, literal]  \n",
       "16                           [metonymy_f, metonymy_f]  \n",
       "17         [metonymy_c, metonymy_c, literal, literal]  \n",
       "18  [literal, metonymy_f, literal, metonymy_f, met...  \n",
       "19               [metonymy_c, metonymy_c, metonymy_c]  "
      ]
     },
     "execution_count": 15,
     "metadata": {},
     "output_type": "execute_result"
    }
   ],
   "source": [
    "df.head(20) "
   ]
  },
  {
   "cell_type": "code",
   "execution_count": 16,
   "metadata": {},
   "outputs": [],
   "source": [
    "arr = []\n",
    "for basket in df.labels:\n",
    "    if (len(basket)>1 and (len(set(basket))==1)):\n",
    "        arr.append(\"pure\") # \"чистые\" корзины, где все слова одного класса \n",
    "    elif len(basket) == 1:\n",
    "        arr.append(\"one stimulus\") # корзины в которых лежит только один стимул\n",
    "    else:\n",
    "        arr.append(\"mixed\") #смешанные корзины, в которые попали слова из разных классов "
   ]
  },
  {
   "cell_type": "code",
   "execution_count": 17,
   "metadata": {
    "scrolled": true
   },
   "outputs": [],
   "source": [
    "df[\"basket_type\"] = arr"
   ]
  },
  {
   "cell_type": "code",
   "execution_count": null,
   "metadata": {},
   "outputs": [],
   "source": [
    "df.to_csv('Preprocessing1402.csv')"
   ]
  },
  {
   "cell_type": "markdown",
   "metadata": {},
   "source": [
    "## Корзины, в которых лежит только один стимул"
   ]
  },
  {
   "cell_type": "markdown",
   "metadata": {},
   "source": [
    "Посмотрим какие контексты чаще всего оказываются одинокими в корзине. Для этого отбираем в датафрейме все строки где basket_type == \"one stimulus\". Создаем частотный словарь, гдe ключ - id-контекста, значение - кол-во раз, когда этот контекст оказывался один в своей корзине отдельно от других."
   ]
  },
  {
   "cell_type": "code",
   "execution_count": 159,
   "metadata": {},
   "outputs": [],
   "source": [
    "onestim = df[df.basket_type ==\"one stimulus\"]\n",
    "onestim_cont_d = {}\n",
    "for cont in onestim.contexts:\n",
    "    if cont[0] not in onestim_cont_d:\n",
    "        onestim_cont_d[cont[0]] = 1\n",
    "    else: \n",
    "        onestim_cont_d[cont[0]] += 1"
   ]
  },
  {
   "cell_type": "code",
   "execution_count": 180,
   "metadata": {},
   "outputs": [],
   "source": [
    "conts = [cont[0] for cont in onestim.contexts]\n",
    "groups = [group for group in onestim.group]\n",
    "groups_d = dict(zip(conts, groups))"
   ]
  },
  {
   "cell_type": "code",
   "execution_count": 183,
   "metadata": {},
   "outputs": [],
   "source": [
    "words_d = dict(zip(conts, [word for word in onestim.word]))"
   ]
  },
  {
   "cell_type": "code",
   "execution_count": 164,
   "metadata": {},
   "outputs": [],
   "source": [
    "loneliest_stimuli = dict(sorted(onestim_cont_d.items() , key=lambda t : t[1] , reverse=True))"
   ]
  },
  {
   "cell_type": "code",
   "execution_count": 169,
   "metadata": {},
   "outputs": [],
   "source": [
    "loneliest_stimuli = pd.DataFrame(list(loneliest_stimuli.items()), columns=['id_context', 'frequency'])"
   ]
  },
  {
   "cell_type": "code",
   "execution_count": 172,
   "metadata": {},
   "outputs": [],
   "source": [
    "deriv = []\n",
    "for num in loneliest_stimuli.id_context: \n",
    "    if num in d:\n",
    "        deriv.append(d[num])"
   ]
  },
  {
   "cell_type": "code",
   "execution_count": 174,
   "metadata": {},
   "outputs": [],
   "source": [
    "loneliest_stimuli[\"derivation\"] = deriv"
   ]
  },
  {
   "cell_type": "code",
   "execution_count": 181,
   "metadata": {},
   "outputs": [],
   "source": [
    "group_column = []\n",
    "for num in loneliest_stimuli.id_context: \n",
    "    if num in groups_d:\n",
    "        group_column.append(groups_d[num])\n",
    "loneliest_stimuli[\"group\"] = group_column"
   ]
  },
  {
   "cell_type": "code",
   "execution_count": 186,
   "metadata": {},
   "outputs": [],
   "source": [
    "word_column = []\n",
    "for num in loneliest_stimuli.id_context: \n",
    "    if num in words_d:\n",
    "        word_column.append(words_d[num])\n",
    "loneliest_stimuli[\"word\"] = word_column"
   ]
  },
  {
   "cell_type": "code",
   "execution_count": 187,
   "metadata": {},
   "outputs": [],
   "source": [
    "sent_column = []\n",
    "for num in loneliest_stimuli.id_context: \n",
    "    if num in d_sent:\n",
    "        sent_column.append(d_sent[num])\n",
    "loneliest_stimuli[\"text\"] = sent_column"
   ]
  },
  {
   "cell_type": "code",
   "execution_count": 191,
   "metadata": {},
   "outputs": [
    {
     "data": {
      "text/html": [
       "<div>\n",
       "<style scoped>\n",
       "    .dataframe tbody tr th:only-of-type {\n",
       "        vertical-align: middle;\n",
       "    }\n",
       "\n",
       "    .dataframe tbody tr th {\n",
       "        vertical-align: top;\n",
       "    }\n",
       "\n",
       "    .dataframe thead th {\n",
       "        text-align: right;\n",
       "    }\n",
       "</style>\n",
       "<table border=\"1\" class=\"dataframe\">\n",
       "  <thead>\n",
       "    <tr style=\"text-align: right;\">\n",
       "      <th></th>\n",
       "      <th>id_context</th>\n",
       "      <th>frequency</th>\n",
       "      <th>derivation</th>\n",
       "      <th>group</th>\n",
       "      <th>word</th>\n",
       "      <th>text</th>\n",
       "    </tr>\n",
       "  </thead>\n",
       "  <tbody>\n",
       "    <tr>\n",
       "      <th>0</th>\n",
       "      <td>132</td>\n",
       "      <td>197</td>\n",
       "      <td>metaphor</td>\n",
       "      <td>far_meton</td>\n",
       "      <td>сахарный</td>\n",
       "      <td>Сахарная улыбка придавала лицу невинное выраже...</td>\n",
       "    </tr>\n",
       "    <tr>\n",
       "      <th>1</th>\n",
       "      <td>130</td>\n",
       "      <td>148</td>\n",
       "      <td>metonymy</td>\n",
       "      <td>far_meton</td>\n",
       "      <td>сахарный</td>\n",
       "      <td>При сахарном диабете отвар 10 г на 150 мл воды...</td>\n",
       "    </tr>\n",
       "    <tr>\n",
       "      <th>2</th>\n",
       "      <td>112</td>\n",
       "      <td>120</td>\n",
       "      <td>metonymy</td>\n",
       "      <td>far_meton</td>\n",
       "      <td>живой</td>\n",
       "      <td>Чувство, что ты приник к своей почве. Будто ис...</td>\n",
       "    </tr>\n",
       "  </tbody>\n",
       "</table>\n",
       "</div>"
      ],
      "text/plain": [
       "   id_context  frequency derivation      group      word  \\\n",
       "0         132        197   metaphor  far_meton  сахарный   \n",
       "1         130        148   metonymy  far_meton  сахарный   \n",
       "2         112        120   metonymy  far_meton     живой   \n",
       "\n",
       "                                                text  \n",
       "0  Сахарная улыбка придавала лицу невинное выраже...  \n",
       "1  При сахарном диабете отвар 10 г на 150 мл воды...  \n",
       "2  Чувство, что ты приник к своей почве. Будто ис...  "
      ]
     },
     "execution_count": 191,
     "metadata": {},
     "output_type": "execute_result"
    }
   ],
   "source": [
    "loneliest_stimuli.head(3)"
   ]
  },
  {
   "cell_type": "code",
   "execution_count": 190,
   "metadata": {},
   "outputs": [],
   "source": [
    "loneliest_stimuli.to_csv('1basket_1stimulus.csv')"
   ]
  },
  {
   "cell_type": "code",
   "execution_count": 207,
   "metadata": {},
   "outputs": [
    {
     "data": {
      "text/plain": [
       "Text(0.5,1,'Cтимулы, которые чаще всего сортировали в отдельную корзину')"
      ]
     },
     "execution_count": 207,
     "metadata": {},
     "output_type": "execute_result"
    },
    {
     "data": {
      "image/png": "[encoded data removed]",
      "text/plain": [
       "<Figure size 432x288 with 1 Axes>"
      ]
     },
     "metadata": {},
     "output_type": "display_data"
    }
   ],
   "source": [
    "plt.barh(loneliest_stimuli.text[0:20], loneliest_stimuli.frequency[0:20])\n",
    "plt.xlabel('Frequency')\n",
    "plt.title('Cтимулы, которые чаще всего сортировали в отдельную корзину')"
   ]
  },
  {
   "cell_type": "code",
   "execution_count": 230,
   "metadata": {},
   "outputs": [],
   "source": [
    "cm1 = loneliest_stimuli[loneliest_stimuli.group==\"close_meton\"]\n",
    "ccm1 = loneliest_stimuli[loneliest_stimuli.group==\"close_close_meton\"]\n",
    "cfm1 = loneliest_stimuli[loneliest_stimuli.group==\"close_far_meton\"]\n",
    "fm1 = loneliest_stimuli[loneliest_stimuli.group==\"far_meton\"]"
   ]
  },
  {
   "cell_type": "code",
   "execution_count": 237,
   "metadata": {},
   "outputs": [
    {
     "data": {
      "text/plain": [
       "Text(0.5,1,'Cтимулы, которые чаще всего сортировали в отдельную корзину (far_meton)')"
      ]
     },
     "execution_count": 237,
     "metadata": {},
     "output_type": "execute_result"
    },
    {
     "data": {
      "image/png": "[encoded data removed]",
      "text/plain": [
       "<Figure size 432x288 with 1 Axes>"
      ]
     },
     "metadata": {},
     "output_type": "display_data"
    }
   ],
   "source": [
    "plt.barh(fm1.text[0:10], fm1.frequency[0:10])\n",
    "plt.xlabel('Frequency')\n",
    "plt.title('Cтимулы, которые чаще всего сортировали в отдельную корзину (far_meton)')"
   ]
  },
  {
   "cell_type": "markdown",
   "metadata": {},
   "source": [
    "## \"Смешанные\" корзины "
   ]
  },
  {
   "cell_type": "code",
   "execution_count": 19,
   "metadata": {},
   "outputs": [],
   "source": [
    "mixed = df[df.basket_type ==\"mixed\"]"
   ]
  },
  {
   "cell_type": "code",
   "execution_count": 57,
   "metadata": {},
   "outputs": [],
   "source": [
    "close_meton = mixed[mixed.group==\"close_meton\"]\n",
    "close_close_meton = mixed[mixed.group==\"close_close_meton\"]\n",
    "close_far_meton = mixed[mixed.group==\"close_far_meton\"]\n",
    "far_meton = mixed[mixed.group==\"far_meton\"]"
   ]
  },
  {
   "cell_type": "code",
   "execution_count": 58,
   "metadata": {},
   "outputs": [
    {
     "data": {
      "text/plain": [
       "2810"
      ]
     },
     "execution_count": 58,
     "metadata": {},
     "output_type": "execute_result"
    }
   ],
   "source": [
    "close_far_meton.shape[0] "
   ]
  },
  {
   "cell_type": "markdown",
   "metadata": {},
   "source": [
    "### close_meton"
   ]
  },
  {
   "cell_type": "code",
   "execution_count": 21,
   "metadata": {},
   "outputs": [],
   "source": [
    "def df_manipulations(df):\n",
    "    d_df = dict(zip([word for word in df.word], [label for label in df.labels]))\n",
    "    df = df.drop([\"basket_type\", \"group\"], axis = 1)\n",
    "    df[\"basket_length\"] = [len(basket) for basket in df.labels]\n",
    "    df[\"basket_set\"] = [\" \".join(set(basket)) for basket in df.labels]\n",
    "    return df"
   ]
  },
  {
   "cell_type": "code",
   "execution_count": 22,
   "metadata": {},
   "outputs": [
    {
     "data": {
      "text/html": [
       "<div>\n",
       "<style scoped>\n",
       "    .dataframe tbody tr th:only-of-type {\n",
       "        vertical-align: middle;\n",
       "    }\n",
       "\n",
       "    .dataframe tbody tr th {\n",
       "        vertical-align: top;\n",
       "    }\n",
       "\n",
       "    .dataframe thead th {\n",
       "        text-align: right;\n",
       "    }\n",
       "</style>\n",
       "<table border=\"1\" class=\"dataframe\">\n",
       "  <thead>\n",
       "    <tr style=\"text-align: right;\">\n",
       "      <th></th>\n",
       "      <th>participant</th>\n",
       "      <th>cs</th>\n",
       "      <th>word</th>\n",
       "      <th>contexts</th>\n",
       "      <th>labels</th>\n",
       "      <th>basket_length</th>\n",
       "      <th>basket_set</th>\n",
       "    </tr>\n",
       "  </thead>\n",
       "  <tbody>\n",
       "    <tr>\n",
       "      <th>44</th>\n",
       "      <td>98f0eb92-84a5-4a90-91e7-19d5ce1f7c69</td>\n",
       "      <td>3</td>\n",
       "      <td>крикливый</td>\n",
       "      <td>[18, 19, 21, 22, 24]</td>\n",
       "      <td>[literal, metonymy, literal, metonymy, literal]</td>\n",
       "      <td>5</td>\n",
       "      <td>metonymy literal</td>\n",
       "    </tr>\n",
       "    <tr>\n",
       "      <th>53</th>\n",
       "      <td>98f0eb92-84a5-4a90-91e7-19d5ce1f7c69</td>\n",
       "      <td>11</td>\n",
       "      <td>деликатный</td>\n",
       "      <td>[74, 76, 78, 79]</td>\n",
       "      <td>[metonymy, literal, literal, literal]</td>\n",
       "      <td>4</td>\n",
       "      <td>metonymy literal</td>\n",
       "    </tr>\n",
       "    <tr>\n",
       "      <th>58</th>\n",
       "      <td>8cb2bbe8-7546-4bfd-86ab-c183ee89e5ff</td>\n",
       "      <td>8</td>\n",
       "      <td>бездушный</td>\n",
       "      <td>[57, 58, 53, 55]</td>\n",
       "      <td>[literal, literal, metonymy, metonymy]</td>\n",
       "      <td>4</td>\n",
       "      <td>metonymy literal</td>\n",
       "    </tr>\n",
       "    <tr>\n",
       "      <th>61</th>\n",
       "      <td>8cb2bbe8-7546-4bfd-86ab-c183ee89e5ff</td>\n",
       "      <td>7</td>\n",
       "      <td>умный</td>\n",
       "      <td>[45, 47, 48, 51, 52]</td>\n",
       "      <td>[metonymy, metaphor, metaphor, metonymy, meton...</td>\n",
       "      <td>5</td>\n",
       "      <td>metonymy metaphor</td>\n",
       "    </tr>\n",
       "    <tr>\n",
       "      <th>77</th>\n",
       "      <td>31208ef9-ccc2-430b-8396-31f49099b749</td>\n",
       "      <td>3</td>\n",
       "      <td>крикливый</td>\n",
       "      <td>[18, 19, 21, 22, 24]</td>\n",
       "      <td>[literal, metonymy, literal, metonymy, literal]</td>\n",
       "      <td>5</td>\n",
       "      <td>metonymy literal</td>\n",
       "    </tr>\n",
       "  </tbody>\n",
       "</table>\n",
       "</div>"
      ],
      "text/plain": [
       "                             participant  cs        word  \\\n",
       "44  98f0eb92-84a5-4a90-91e7-19d5ce1f7c69   3   крикливый   \n",
       "53  98f0eb92-84a5-4a90-91e7-19d5ce1f7c69  11  деликатный   \n",
       "58  8cb2bbe8-7546-4bfd-86ab-c183ee89e5ff   8   бездушный   \n",
       "61  8cb2bbe8-7546-4bfd-86ab-c183ee89e5ff   7       умный   \n",
       "77  31208ef9-ccc2-430b-8396-31f49099b749   3   крикливый   \n",
       "\n",
       "                contexts                                             labels  \\\n",
       "44  [18, 19, 21, 22, 24]    [literal, metonymy, literal, metonymy, literal]   \n",
       "53      [74, 76, 78, 79]              [metonymy, literal, literal, literal]   \n",
       "58      [57, 58, 53, 55]             [literal, literal, metonymy, metonymy]   \n",
       "61  [45, 47, 48, 51, 52]  [metonymy, metaphor, metaphor, metonymy, meton...   \n",
       "77  [18, 19, 21, 22, 24]    [literal, metonymy, literal, metonymy, literal]   \n",
       "\n",
       "    basket_length         basket_set  \n",
       "44              5   metonymy literal  \n",
       "53              4   metonymy literal  \n",
       "58              4   metonymy literal  \n",
       "61              5  metonymy metaphor  \n",
       "77              5   metonymy literal  "
      ]
     },
     "execution_count": 22,
     "metadata": {},
     "output_type": "execute_result"
    }
   ],
   "source": [
    "close_meton = df_manipulations(close_meton)\n",
    "close_meton.head()"
   ]
  },
  {
   "cell_type": "code",
   "execution_count": 23,
   "metadata": {},
   "outputs": [],
   "source": [
    "cm_count = close_meton.basket_set.groupby(close_meton.basket_set).count()"
   ]
  },
  {
   "cell_type": "code",
   "execution_count": 27,
   "metadata": {},
   "outputs": [
    {
     "data": {
      "text/plain": [
       "basket_set\n",
       "literal metaphor               61\n",
       "metaphor literal               69\n",
       "metonymy literal             1333\n",
       "metonymy literal metaphor      88\n",
       "metonymy metaphor             619\n",
       "metonymy metaphor literal     143\n",
       "Name: basket_set, dtype: int64"
      ]
     },
     "execution_count": 27,
     "metadata": {},
     "output_type": "execute_result"
    }
   ],
   "source": [
    "cm_count"
   ]
  },
  {
   "cell_type": "code",
   "execution_count": 24,
   "metadata": {},
   "outputs": [],
   "source": [
    "cm_series = close_meton.basket_set.value_counts()"
   ]
  },
  {
   "cell_type": "code",
   "execution_count": 25,
   "metadata": {},
   "outputs": [],
   "source": [
    "cm_summary = pd.DataFrame(cm_series)"
   ]
  },
  {
   "cell_type": "code",
   "execution_count": 28,
   "metadata": {},
   "outputs": [],
   "source": [
    "cm_summary.loc[\"literal meton metaph\"] = cm_summary.loc[\"metonymy literal metaphor\"]+ cm_summary.loc[\"metonymy metaphor literal\"]"
   ]
  },
  {
   "cell_type": "code",
   "execution_count": 29,
   "metadata": {},
   "outputs": [],
   "source": [
    "cm_summary.loc[\"literal metaph\"] = cm_summary.loc[\"literal metaphor\"]+ cm_summary.loc[\"metaphor literal\"]"
   ]
  },
  {
   "cell_type": "code",
   "execution_count": 30,
   "metadata": {},
   "outputs": [],
   "source": [
    "cm_summary = cm_summary.drop([\"literal metaphor\", \"metaphor literal\", \"metonymy literal metaphor\", \"metonymy metaphor literal\"])"
   ]
  },
  {
   "cell_type": "code",
   "execution_count": 31,
   "metadata": {},
   "outputs": [],
   "source": [
    "cm_summary['names'] = cm_summary.index"
   ]
  },
  {
   "cell_type": "code",
   "execution_count": 34,
   "metadata": {},
   "outputs": [
    {
     "data": {
      "image/png": "[encoded data removed]",
      "text/plain": [
       "<Figure size 432x288 with 1 Axes>"
      ]
     },
     "metadata": {},
     "output_type": "display_data"
    }
   ],
   "source": [
    "#cm_summary.plot.pie(y='basket_set', figsize=(5, 5))\n",
    "plt.pie(\n",
    "    cm_summary['basket_set'],\n",
    "    shadow=False,\n",
    "    startangle=90,\n",
    "    autopct='%1.2f%%',\n",
    "    pctdistance=1., #labeldistance=1.2\n",
    ")\n",
    "plt.axis('equal')\n",
    "plt.legend(cm_summary['names'],bbox_to_anchor=(1,1))\n",
    "plt.tight_layout()\n",
    "plt.title('close_meton combinations', fontsize=12)\n",
    "plt.show()"
   ]
  },
  {
   "cell_type": "code",
   "execution_count": 35,
   "metadata": {},
   "outputs": [
    {
     "data": {
      "text/html": [
       "<div>\n",
       "<style scoped>\n",
       "    .dataframe tbody tr th:only-of-type {\n",
       "        vertical-align: middle;\n",
       "    }\n",
       "\n",
       "    .dataframe tbody tr th {\n",
       "        vertical-align: top;\n",
       "    }\n",
       "\n",
       "    .dataframe thead th {\n",
       "        text-align: right;\n",
       "    }\n",
       "</style>\n",
       "<table border=\"1\" class=\"dataframe\">\n",
       "  <thead>\n",
       "    <tr style=\"text-align: right;\">\n",
       "      <th></th>\n",
       "      <th>basket_set</th>\n",
       "      <th>names</th>\n",
       "    </tr>\n",
       "  </thead>\n",
       "  <tbody>\n",
       "    <tr>\n",
       "      <th>metonymy literal</th>\n",
       "      <td>1333</td>\n",
       "      <td>metonymy literal</td>\n",
       "    </tr>\n",
       "    <tr>\n",
       "      <th>metonymy metaphor</th>\n",
       "      <td>619</td>\n",
       "      <td>metonymy metaphor</td>\n",
       "    </tr>\n",
       "    <tr>\n",
       "      <th>literal meton metaph</th>\n",
       "      <td>231</td>\n",
       "      <td>literal meton metaph</td>\n",
       "    </tr>\n",
       "    <tr>\n",
       "      <th>literal metaph</th>\n",
       "      <td>130</td>\n",
       "      <td>literal metaph</td>\n",
       "    </tr>\n",
       "  </tbody>\n",
       "</table>\n",
       "</div>"
      ],
      "text/plain": [
       "                      basket_set                 names\n",
       "metonymy literal            1333      metonymy literal\n",
       "metonymy metaphor            619     metonymy metaphor\n",
       "literal meton metaph         231  literal meton metaph\n",
       "literal metaph               130        literal metaph"
      ]
     },
     "execution_count": 35,
     "metadata": {},
     "output_type": "execute_result"
    }
   ],
   "source": [
    "cm_summary"
   ]
  },
  {
   "cell_type": "markdown",
   "metadata": {},
   "source": [
    "### close_close_meton "
   ]
  },
  {
   "cell_type": "code",
   "execution_count": 352,
   "metadata": {},
   "outputs": [],
   "source": [
    "close_close_meton = df_manipulations(close_close_meton)"
   ]
  },
  {
   "cell_type": "code",
   "execution_count": 354,
   "metadata": {},
   "outputs": [],
   "source": [
    "ccm_count = close_close_meton.basket_set.groupby(close_close_meton.basket_set).count()"
   ]
  },
  {
   "cell_type": "code",
   "execution_count": 358,
   "metadata": {},
   "outputs": [],
   "source": [
    "ccm = pd.DataFrame(ccm_count)\n",
    "ccm['names'] = ccm.index"
   ]
  },
  {
   "cell_type": "code",
   "execution_count": 373,
   "metadata": {},
   "outputs": [
    {
     "data": {
      "image/png": "[encoded data removed]",
      "text/plain": [
       "<Figure size 432x288 with 1 Axes>"
      ]
     },
     "metadata": {},
     "output_type": "display_data"
    }
   ],
   "source": [
    "plt.pie(\n",
    "    ccm['basket_set'],\n",
    "    shadow=False,\n",
    "    startangle=90,\n",
    "    autopct='%1.2f%%',\n",
    "    pctdistance=1.4, #labeldistance=1.2\n",
    ")\n",
    "plt.axis('equal')\n",
    "plt.legend(ccm['names'],bbox_to_anchor=(1,1))\n",
    "plt.tight_layout()\n",
    "plt.title('close_close_meton combinations', fontsize=12)\n",
    "plt.show()"
   ]
  },
  {
   "cell_type": "markdown",
   "metadata": {},
   "source": [
    "### close_far_meton"
   ]
  },
  {
   "cell_type": "code",
   "execution_count": 37,
   "metadata": {},
   "outputs": [],
   "source": [
    "close_far_meton = df_manipulations(close_far_meton)"
   ]
  },
  {
   "cell_type": "code",
   "execution_count": 40,
   "metadata": {},
   "outputs": [],
   "source": [
    "cfm_count = close_far_meton.basket_set.groupby(close_far_meton.basket_set).count()"
   ]
  },
  {
   "cell_type": "code",
   "execution_count": 41,
   "metadata": {},
   "outputs": [
    {
     "data": {
      "text/plain": [
       "basket_set\n",
       "literal metonymy_c               407\n",
       "literal metonymy_c metonymy_f    264\n",
       "literal metonymy_f               291\n",
       "metonymy_c literal               373\n",
       "metonymy_c literal metonymy_f    217\n",
       "metonymy_c metonymy_f            579\n",
       "metonymy_f literal               168\n",
       "metonymy_f metonymy_c            412\n",
       "metonymy_f metonymy_c literal     99\n",
       "Name: basket_set, dtype: int64"
      ]
     },
     "execution_count": 41,
     "metadata": {},
     "output_type": "execute_result"
    }
   ],
   "source": [
    "cfm_count"
   ]
  },
  {
   "cell_type": "code",
   "execution_count": 44,
   "metadata": {},
   "outputs": [],
   "source": [
    "cfm_series = close_far_meton.basket_set.value_counts()"
   ]
  },
  {
   "cell_type": "code",
   "execution_count": 46,
   "metadata": {},
   "outputs": [],
   "source": [
    "cfm_summary = pd.DataFrame(cfm_series)"
   ]
  },
  {
   "cell_type": "code",
   "execution_count": 47,
   "metadata": {},
   "outputs": [],
   "source": [
    "cfm_summary.loc[\"literal meton_c meton_f\"] = cfm_summary.loc[\"literal metonymy_c metonymy_f\"]+ cfm_summary.loc[\"metonymy_c literal metonymy_f\"]+ cfm_summary.loc[\"metonymy_f metonymy_c literal\"]"
   ]
  },
  {
   "cell_type": "code",
   "execution_count": 48,
   "metadata": {},
   "outputs": [],
   "source": [
    "cfm_summary.loc[\"literal meton_c\"] = cfm_summary.loc[\"literal metonymy_c\"]+cfm_summary.loc[\"metonymy_c literal\"]"
   ]
  },
  {
   "cell_type": "code",
   "execution_count": 49,
   "metadata": {},
   "outputs": [],
   "source": [
    "cfm_summary.loc[\"literal meton_f\"] = cfm_summary.loc[\"literal metonymy_f\"]+cfm_summary.loc[\"metonymy_f literal\"]"
   ]
  },
  {
   "cell_type": "code",
   "execution_count": 50,
   "metadata": {},
   "outputs": [],
   "source": [
    "cfm_summary.loc[\"meton_f meton_c\"] = cfm_summary.loc[\"metonymy_f metonymy_c\"]+cfm_summary.loc[\"metonymy_c metonymy_f\"]"
   ]
  },
  {
   "cell_type": "code",
   "execution_count": 51,
   "metadata": {},
   "outputs": [],
   "source": [
    "cfm_summary = cfm_summary.drop([\"metonymy_f metonymy_c literal\", \"metonymy_c literal metonymy_f\", \n",
    "                              \"literal metonymy_c metonymy_f\", \"literal metonymy_c\",\"literal metonymy_f\",\n",
    "                                \"metonymy_c literal\",\"metonymy_c metonymy_f\", \"metonymy_f literal\",\n",
    "                                \"metonymy_f metonymy_c\"])"
   ]
  },
  {
   "cell_type": "code",
   "execution_count": 52,
   "metadata": {},
   "outputs": [],
   "source": [
    "cfm_summary['names'] = cfm_summary.index"
   ]
  },
  {
   "cell_type": "code",
   "execution_count": 53,
   "metadata": {},
   "outputs": [
    {
     "data": {
      "text/html": [
       "<div>\n",
       "<style scoped>\n",
       "    .dataframe tbody tr th:only-of-type {\n",
       "        vertical-align: middle;\n",
       "    }\n",
       "\n",
       "    .dataframe tbody tr th {\n",
       "        vertical-align: top;\n",
       "    }\n",
       "\n",
       "    .dataframe thead th {\n",
       "        text-align: right;\n",
       "    }\n",
       "</style>\n",
       "<table border=\"1\" class=\"dataframe\">\n",
       "  <thead>\n",
       "    <tr style=\"text-align: right;\">\n",
       "      <th></th>\n",
       "      <th>basket_set</th>\n",
       "      <th>names</th>\n",
       "    </tr>\n",
       "  </thead>\n",
       "  <tbody>\n",
       "    <tr>\n",
       "      <th>literal meton_c meton_f</th>\n",
       "      <td>580</td>\n",
       "      <td>literal meton_c meton_f</td>\n",
       "    </tr>\n",
       "    <tr>\n",
       "      <th>literal meton_c</th>\n",
       "      <td>780</td>\n",
       "      <td>literal meton_c</td>\n",
       "    </tr>\n",
       "    <tr>\n",
       "      <th>literal meton_f</th>\n",
       "      <td>459</td>\n",
       "      <td>literal meton_f</td>\n",
       "    </tr>\n",
       "    <tr>\n",
       "      <th>meton_f meton_c</th>\n",
       "      <td>991</td>\n",
       "      <td>meton_f meton_c</td>\n",
       "    </tr>\n",
       "  </tbody>\n",
       "</table>\n",
       "</div>"
      ],
      "text/plain": [
       "                         basket_set                    names\n",
       "literal meton_c meton_f         580  literal meton_c meton_f\n",
       "literal meton_c                 780          literal meton_c\n",
       "literal meton_f                 459          literal meton_f\n",
       "meton_f meton_c                 991          meton_f meton_c"
      ]
     },
     "execution_count": 53,
     "metadata": {},
     "output_type": "execute_result"
    }
   ],
   "source": [
    "cfm_summary"
   ]
  },
  {
   "cell_type": "code",
   "execution_count": 56,
   "metadata": {},
   "outputs": [
    {
     "data": {
      "image/png": "[encoded data removed]",
      "text/plain": [
       "<Figure size 432x288 with 1 Axes>"
      ]
     },
     "metadata": {},
     "output_type": "display_data"
    }
   ],
   "source": [
    "plt.pie(\n",
    "    cfm_summary['basket_set'],\n",
    "    shadow=False,\n",
    "    startangle=90,\n",
    "    autopct='%1.2f%%',\n",
    "    pctdistance=1.25, #labeldistance=1.2\n",
    ")\n",
    "plt.axis('equal')\n",
    "plt.legend(cfm_summary['names'],bbox_to_anchor=(1,1))\n",
    "plt.tight_layout()\n",
    "plt.title('close_far_meton combinations', fontsize=12)\n",
    "plt.show()"
   ]
  },
  {
   "cell_type": "markdown",
   "metadata": {},
   "source": [
    "### far_meton"
   ]
  },
  {
   "cell_type": "code",
   "execution_count": 59,
   "metadata": {},
   "outputs": [
    {
     "data": {
      "text/html": [
       "<div>\n",
       "<style scoped>\n",
       "    .dataframe tbody tr th:only-of-type {\n",
       "        vertical-align: middle;\n",
       "    }\n",
       "\n",
       "    .dataframe tbody tr th {\n",
       "        vertical-align: top;\n",
       "    }\n",
       "\n",
       "    .dataframe thead th {\n",
       "        text-align: right;\n",
       "    }\n",
       "</style>\n",
       "<table border=\"1\" class=\"dataframe\">\n",
       "  <thead>\n",
       "    <tr style=\"text-align: right;\">\n",
       "      <th></th>\n",
       "      <th>participant</th>\n",
       "      <th>cs</th>\n",
       "      <th>word</th>\n",
       "      <th>contexts</th>\n",
       "      <th>labels</th>\n",
       "      <th>basket_length</th>\n",
       "      <th>basket_set</th>\n",
       "    </tr>\n",
       "  </thead>\n",
       "  <tbody>\n",
       "    <tr>\n",
       "      <th>57</th>\n",
       "      <td>8cb2bbe8-7546-4bfd-86ab-c183ee89e5ff</td>\n",
       "      <td>13</td>\n",
       "      <td>сонный</td>\n",
       "      <td>[89, 91, 92, 93]</td>\n",
       "      <td>[metonymy, metaphor, metaphor, metonymy]</td>\n",
       "      <td>4</td>\n",
       "      <td>metonymy metaphor</td>\n",
       "    </tr>\n",
       "    <tr>\n",
       "      <th>70</th>\n",
       "      <td>31208ef9-ccc2-430b-8396-31f49099b749</td>\n",
       "      <td>23</td>\n",
       "      <td>солнечный</td>\n",
       "      <td>[144, 145, 147, 149, 150]</td>\n",
       "      <td>[metonymy, metonymy, literal, literal, literal]</td>\n",
       "      <td>5</td>\n",
       "      <td>metonymy literal</td>\n",
       "    </tr>\n",
       "    <tr>\n",
       "      <th>75</th>\n",
       "      <td>31208ef9-ccc2-430b-8396-31f49099b749</td>\n",
       "      <td>20</td>\n",
       "      <td>сахарный</td>\n",
       "      <td>[130, 131, 133]</td>\n",
       "      <td>[metonymy, literal, literal]</td>\n",
       "      <td>3</td>\n",
       "      <td>metonymy literal</td>\n",
       "    </tr>\n",
       "    <tr>\n",
       "      <th>89</th>\n",
       "      <td>65198011-1ade-4194-a77b-59dd176d449f</td>\n",
       "      <td>13</td>\n",
       "      <td>сонный</td>\n",
       "      <td>[89, 91, 93]</td>\n",
       "      <td>[metonymy, metaphor, metonymy]</td>\n",
       "      <td>3</td>\n",
       "      <td>metonymy metaphor</td>\n",
       "    </tr>\n",
       "    <tr>\n",
       "      <th>90</th>\n",
       "      <td>65198011-1ade-4194-a77b-59dd176d449f</td>\n",
       "      <td>13</td>\n",
       "      <td>сонный</td>\n",
       "      <td>[88, 90, 92, 94]</td>\n",
       "      <td>[literal, literal, metaphor, literal]</td>\n",
       "      <td>4</td>\n",
       "      <td>literal metaphor</td>\n",
       "    </tr>\n",
       "  </tbody>\n",
       "</table>\n",
       "</div>"
      ],
      "text/plain": [
       "                             participant  cs       word  \\\n",
       "57  8cb2bbe8-7546-4bfd-86ab-c183ee89e5ff  13     сонный   \n",
       "70  31208ef9-ccc2-430b-8396-31f49099b749  23  солнечный   \n",
       "75  31208ef9-ccc2-430b-8396-31f49099b749  20   сахарный   \n",
       "89  65198011-1ade-4194-a77b-59dd176d449f  13     сонный   \n",
       "90  65198011-1ade-4194-a77b-59dd176d449f  13     сонный   \n",
       "\n",
       "                     contexts  \\\n",
       "57           [89, 91, 92, 93]   \n",
       "70  [144, 145, 147, 149, 150]   \n",
       "75            [130, 131, 133]   \n",
       "89               [89, 91, 93]   \n",
       "90           [88, 90, 92, 94]   \n",
       "\n",
       "                                             labels  basket_length  \\\n",
       "57         [metonymy, metaphor, metaphor, metonymy]              4   \n",
       "70  [metonymy, metonymy, literal, literal, literal]              5   \n",
       "75                     [metonymy, literal, literal]              3   \n",
       "89                   [metonymy, metaphor, metonymy]              3   \n",
       "90            [literal, literal, metaphor, literal]              4   \n",
       "\n",
       "           basket_set  \n",
       "57  metonymy metaphor  \n",
       "70   metonymy literal  \n",
       "75   metonymy literal  \n",
       "89  metonymy metaphor  \n",
       "90   literal metaphor  "
      ]
     },
     "execution_count": 59,
     "metadata": {},
     "output_type": "execute_result"
    }
   ],
   "source": [
    "far_meton = df_manipulations(far_meton)\n",
    "far_meton.head()"
   ]
  },
  {
   "cell_type": "code",
   "execution_count": 60,
   "metadata": {},
   "outputs": [],
   "source": [
    "fm_count = far_meton.basket_set.groupby(far_meton.basket_set).count()"
   ]
  },
  {
   "cell_type": "code",
   "execution_count": 61,
   "metadata": {},
   "outputs": [
    {
     "data": {
      "text/plain": [
       "basket_set\n",
       "literal metaphor               69\n",
       "metaphor literal               83\n",
       "metonymy literal             1207\n",
       "metonymy literal metaphor      56\n",
       "metonymy metaphor             518\n",
       "metonymy metaphor literal      62\n",
       "Name: basket_set, dtype: int64"
      ]
     },
     "execution_count": 61,
     "metadata": {},
     "output_type": "execute_result"
    }
   ],
   "source": [
    "fm_count"
   ]
  },
  {
   "cell_type": "code",
   "execution_count": 62,
   "metadata": {},
   "outputs": [],
   "source": [
    "fm_series = far_meton.basket_set.value_counts()"
   ]
  },
  {
   "cell_type": "code",
   "execution_count": 63,
   "metadata": {},
   "outputs": [],
   "source": [
    "fm_summary = pd.DataFrame(fm_series)"
   ]
  },
  {
   "cell_type": "code",
   "execution_count": 64,
   "metadata": {},
   "outputs": [],
   "source": [
    "fm_summary.loc[\"literal metaph\"] = fm_summary.loc[\"literal metaphor\"]+fm_summary.loc[\"metaphor literal\"]"
   ]
  },
  {
   "cell_type": "code",
   "execution_count": 65,
   "metadata": {},
   "outputs": [],
   "source": [
    "fm_summary.loc[\"literal meton metaph\"] = fm_summary.loc[\"metonymy literal metaphor\"]+fm_summary.loc[\"metonymy metaphor literal\"]"
   ]
  },
  {
   "cell_type": "code",
   "execution_count": 66,
   "metadata": {},
   "outputs": [],
   "source": [
    "fm_summary = fm_summary.drop([\"literal metaphor\", \"metaphor literal\",\"metonymy literal metaphor\",\"metonymy metaphor literal\"])"
   ]
  },
  {
   "cell_type": "code",
   "execution_count": 69,
   "metadata": {},
   "outputs": [
    {
     "data": {
      "text/html": [
       "<div>\n",
       "<style scoped>\n",
       "    .dataframe tbody tr th:only-of-type {\n",
       "        vertical-align: middle;\n",
       "    }\n",
       "\n",
       "    .dataframe tbody tr th {\n",
       "        vertical-align: top;\n",
       "    }\n",
       "\n",
       "    .dataframe thead th {\n",
       "        text-align: right;\n",
       "    }\n",
       "</style>\n",
       "<table border=\"1\" class=\"dataframe\">\n",
       "  <thead>\n",
       "    <tr style=\"text-align: right;\">\n",
       "      <th></th>\n",
       "      <th>basket_set</th>\n",
       "      <th>names</th>\n",
       "    </tr>\n",
       "  </thead>\n",
       "  <tbody>\n",
       "    <tr>\n",
       "      <th>metonymy literal</th>\n",
       "      <td>1207</td>\n",
       "      <td>metonymy literal</td>\n",
       "    </tr>\n",
       "    <tr>\n",
       "      <th>metonymy metaphor</th>\n",
       "      <td>518</td>\n",
       "      <td>metonymy metaphor</td>\n",
       "    </tr>\n",
       "    <tr>\n",
       "      <th>literal metaph</th>\n",
       "      <td>152</td>\n",
       "      <td>literal metaph</td>\n",
       "    </tr>\n",
       "    <tr>\n",
       "      <th>literal meton metaph</th>\n",
       "      <td>118</td>\n",
       "      <td>literal meton metaph</td>\n",
       "    </tr>\n",
       "  </tbody>\n",
       "</table>\n",
       "</div>"
      ],
      "text/plain": [
       "                      basket_set                 names\n",
       "metonymy literal            1207      metonymy literal\n",
       "metonymy metaphor            518     metonymy metaphor\n",
       "literal metaph               152        literal metaph\n",
       "literal meton metaph         118  literal meton metaph"
      ]
     },
     "execution_count": 69,
     "metadata": {},
     "output_type": "execute_result"
    }
   ],
   "source": [
    "fm_summary['names'] = fm_summary.index\n",
    "fm_summary"
   ]
  },
  {
   "cell_type": "code",
   "execution_count": 73,
   "metadata": {},
   "outputs": [
    {
     "data": {
      "image/png": "[encoded data removed]",
      "text/plain": [
       "<Figure size 432x288 with 1 Axes>"
      ]
     },
     "metadata": {},
     "output_type": "display_data"
    }
   ],
   "source": [
    "plt.pie(\n",
    "    fm_summary['basket_set'],\n",
    "    shadow=False,\n",
    "    startangle=90,\n",
    "    autopct='%1.2f%%',\n",
    "    pctdistance=1.2, #labeldistance=1.2\n",
    ")\n",
    "plt.axis('equal')\n",
    "plt.legend(fm_summary['names'],bbox_to_anchor=(1,1))\n",
    "plt.tight_layout()\n",
    "plt.title('far_meton combinations', fontsize=12, y=1.08)\n",
    "plt.show()"
   ]
  },
  {
   "cell_type": "code",
   "execution_count": 74,
   "metadata": {},
   "outputs": [],
   "source": [
    "pure = df[df.basket_type ==\"pure\"]"
   ]
  },
  {
   "cell_type": "code",
   "execution_count": 75,
   "metadata": {},
   "outputs": [],
   "source": [
    "close_meton3 = pure[pure.group==\"close_meton\"]\n",
    "close_close_meton3 = pure[pure.group==\"close_close_meton\"]\n",
    "close_far_meton3 = pure[pure.group==\"close_far_meton\"]\n",
    "far_meton3 = pure[pure.group==\"far_meton\"]"
   ]
  },
  {
   "cell_type": "code",
   "execution_count": 78,
   "metadata": {},
   "outputs": [],
   "source": [
    "close_meton3 = df_manipulations(close_meton3)"
   ]
  },
  {
   "cell_type": "code",
   "execution_count": 79,
   "metadata": {},
   "outputs": [
    {
     "data": {
      "text/html": [
       "<div>\n",
       "<style scoped>\n",
       "    .dataframe tbody tr th:only-of-type {\n",
       "        vertical-align: middle;\n",
       "    }\n",
       "\n",
       "    .dataframe tbody tr th {\n",
       "        vertical-align: top;\n",
       "    }\n",
       "\n",
       "    .dataframe thead th {\n",
       "        text-align: right;\n",
       "    }\n",
       "</style>\n",
       "<table border=\"1\" class=\"dataframe\">\n",
       "  <thead>\n",
       "    <tr style=\"text-align: right;\">\n",
       "      <th></th>\n",
       "      <th>participant</th>\n",
       "      <th>cs</th>\n",
       "      <th>word</th>\n",
       "      <th>contexts</th>\n",
       "      <th>labels</th>\n",
       "      <th>basket_length</th>\n",
       "      <th>basket_set</th>\n",
       "    </tr>\n",
       "  </thead>\n",
       "  <tbody>\n",
       "    <tr>\n",
       "      <th>7</th>\n",
       "      <td>277a058c-6372-4840-8b1d-2ac2bac3d5e1</td>\n",
       "      <td>6</td>\n",
       "      <td>строгий</td>\n",
       "      <td>[40, 39]</td>\n",
       "      <td>[literal, literal]</td>\n",
       "      <td>2</td>\n",
       "      <td>literal</td>\n",
       "    </tr>\n",
       "    <tr>\n",
       "      <th>8</th>\n",
       "      <td>277a058c-6372-4840-8b1d-2ac2bac3d5e1</td>\n",
       "      <td>6</td>\n",
       "      <td>строгий</td>\n",
       "      <td>[42, 43]</td>\n",
       "      <td>[metaphor, metaphor]</td>\n",
       "      <td>2</td>\n",
       "      <td>metaphor</td>\n",
       "    </tr>\n",
       "    <tr>\n",
       "      <th>9</th>\n",
       "      <td>277a058c-6372-4840-8b1d-2ac2bac3d5e1</td>\n",
       "      <td>6</td>\n",
       "      <td>строгий</td>\n",
       "      <td>[41, 44]</td>\n",
       "      <td>[metonymy, metonymy]</td>\n",
       "      <td>2</td>\n",
       "      <td>metonymy</td>\n",
       "    </tr>\n",
       "    <tr>\n",
       "      <th>36</th>\n",
       "      <td>98f0eb92-84a5-4a90-91e7-19d5ce1f7c69</td>\n",
       "      <td>1</td>\n",
       "      <td>злой</td>\n",
       "      <td>[1, 4, 7]</td>\n",
       "      <td>[metonymy, metonymy, metonymy]</td>\n",
       "      <td>3</td>\n",
       "      <td>metonymy</td>\n",
       "    </tr>\n",
       "    <tr>\n",
       "      <th>39</th>\n",
       "      <td>98f0eb92-84a5-4a90-91e7-19d5ce1f7c69</td>\n",
       "      <td>1</td>\n",
       "      <td>злой</td>\n",
       "      <td>[3, 6]</td>\n",
       "      <td>[literal, literal]</td>\n",
       "      <td>2</td>\n",
       "      <td>literal</td>\n",
       "    </tr>\n",
       "  </tbody>\n",
       "</table>\n",
       "</div>"
      ],
      "text/plain": [
       "                             participant  cs     word   contexts  \\\n",
       "7   277a058c-6372-4840-8b1d-2ac2bac3d5e1   6  строгий   [40, 39]   \n",
       "8   277a058c-6372-4840-8b1d-2ac2bac3d5e1   6  строгий   [42, 43]   \n",
       "9   277a058c-6372-4840-8b1d-2ac2bac3d5e1   6  строгий   [41, 44]   \n",
       "36  98f0eb92-84a5-4a90-91e7-19d5ce1f7c69   1     злой  [1, 4, 7]   \n",
       "39  98f0eb92-84a5-4a90-91e7-19d5ce1f7c69   1     злой     [3, 6]   \n",
       "\n",
       "                            labels  basket_length basket_set  \n",
       "7               [literal, literal]              2    literal  \n",
       "8             [metaphor, metaphor]              2   metaphor  \n",
       "9             [metonymy, metonymy]              2   metonymy  \n",
       "36  [metonymy, metonymy, metonymy]              3   metonymy  \n",
       "39              [literal, literal]              2    literal  "
      ]
     },
     "execution_count": 79,
     "metadata": {},
     "output_type": "execute_result"
    }
   ],
   "source": [
    "close_meton3.head()"
   ]
  },
  {
   "cell_type": "code",
   "execution_count": 81,
   "metadata": {},
   "outputs": [],
   "source": [
    "cm_count3 = close_meton3.basket_set.groupby(close_meton3.basket_set).count()"
   ]
  },
  {
   "cell_type": "code",
   "execution_count": 82,
   "metadata": {},
   "outputs": [
    {
     "data": {
      "text/plain": [
       "basket_set\n",
       "literal      954\n",
       "metaphor    1663\n",
       "metonymy     697\n",
       "Name: basket_set, dtype: int64"
      ]
     },
     "execution_count": 82,
     "metadata": {},
     "output_type": "execute_result"
    }
   ],
   "source": [
    "cm_count3"
   ]
  },
  {
   "cell_type": "code",
   "execution_count": 83,
   "metadata": {},
   "outputs": [],
   "source": [
    "cm3 = pd.DataFrame(cm_count3)\n",
    "cm3['names'] = cm3.index"
   ]
  },
  {
   "cell_type": "code",
   "execution_count": 85,
   "metadata": {},
   "outputs": [
    {
     "data": {
      "image/png": "[encoded data removed]",
      "text/plain": [
       "<Figure size 432x288 with 1 Axes>"
      ]
     },
     "metadata": {},
     "output_type": "display_data"
    }
   ],
   "source": [
    "plt.pie(\n",
    "    cm3['basket_set'],\n",
    "    shadow=False,\n",
    "    startangle=90,\n",
    "    autopct='%1.2f%%',\n",
    "    pctdistance=1.2, #labeldistance=1.2\n",
    ")\n",
    "plt.axis('equal')\n",
    "plt.legend(cm3['names'],bbox_to_anchor=(1,1))\n",
    "plt.tight_layout()\n",
    "plt.title('close_meton: number of \"pure\" baskets', fontsize=12)\n",
    "plt.show()"
   ]
  },
  {
   "cell_type": "code",
   "execution_count": 87,
   "metadata": {},
   "outputs": [],
   "source": [
    "close_close_meton3 = df_manipulations(close_close_meton3)\n",
    "ccm_count3 = close_close_meton3.basket_set.groupby(close_close_meton3.basket_set).count()\n",
    "ccm3 = pd.DataFrame(ccm_count3)\n",
    "ccm3['names'] = ccm3.index"
   ]
  },
  {
   "cell_type": "code",
   "execution_count": 88,
   "metadata": {},
   "outputs": [
    {
     "data": {
      "image/png": "[encoded data removed]",
      "text/plain": [
       "<Figure size 432x288 with 1 Axes>"
      ]
     },
     "metadata": {},
     "output_type": "display_data"
    }
   ],
   "source": [
    "plt.pie(\n",
    "    ccm3['basket_set'],\n",
    "    shadow=False,\n",
    "    startangle=90,\n",
    "    autopct='%1.2f%%',\n",
    "    pctdistance=1.2, #labeldistance=1.2\n",
    ")\n",
    "plt.axis('equal')\n",
    "plt.legend(ccm3['names'],bbox_to_anchor=(1,1))\n",
    "plt.tight_layout()\n",
    "plt.title('close_close_meton: number of \"pure\" baskets', fontsize=12)\n",
    "plt.show()"
   ]
  },
  {
   "cell_type": "code",
   "execution_count": 89,
   "metadata": {},
   "outputs": [],
   "source": [
    "close_far_meton3 = df_manipulations(close_far_meton3)\n",
    "cfm_count3 = close_far_meton3.basket_set.groupby(close_far_meton3.basket_set).count()\n",
    "cfm3 = pd.DataFrame(cfm_count3)\n",
    "cfm3['names'] = cfm3.index"
   ]
  },
  {
   "cell_type": "code",
   "execution_count": 90,
   "metadata": {},
   "outputs": [
    {
     "data": {
      "image/png": "[encoded data removed]",
      "text/plain": [
       "<Figure size 432x288 with 1 Axes>"
      ]
     },
     "metadata": {},
     "output_type": "display_data"
    }
   ],
   "source": [
    "plt.pie(\n",
    "    cfm3['basket_set'],\n",
    "    shadow=False,\n",
    "    startangle=90,\n",
    "    autopct='%1.2f%%',\n",
    "    pctdistance=1.2, #labeldistance=1.2\n",
    ")\n",
    "plt.axis('equal')\n",
    "plt.legend(cfm3['names'],bbox_to_anchor=(1,1))\n",
    "plt.tight_layout()\n",
    "plt.title('close_far_meton: number of \"pure\" baskets', fontsize=12)\n",
    "plt.show()"
   ]
  },
  {
   "cell_type": "code",
   "execution_count": 91,
   "metadata": {},
   "outputs": [],
   "source": [
    "far_meton3 = df_manipulations(far_meton3)\n",
    "fm_count3 = far_meton3.basket_set.groupby(far_meton3.basket_set).count()\n",
    "fm3 = pd.DataFrame(fm_count3)\n",
    "fm3['names'] = fm3.index"
   ]
  },
  {
   "cell_type": "code",
   "execution_count": 94,
   "metadata": {},
   "outputs": [
    {
     "data": {
      "image/png": "[encoded data removed]",
      "text/plain": [
       "<Figure size 432x288 with 1 Axes>"
      ]
     },
     "metadata": {},
     "output_type": "display_data"
    }
   ],
   "source": [
    "plt.pie(\n",
    "    fm3['basket_set'],\n",
    "    shadow=False,\n",
    "    startangle=90,\n",
    "    autopct='%1.2f%%',\n",
    "    pctdistance=1.2, #labeldistance=1.2\n",
    ")\n",
    "plt.axis('equal')\n",
    "plt.legend(fm3['names'],bbox_to_anchor=(1,1))\n",
    "plt.tight_layout()\n",
    "plt.title('far_meton: number of \"pure\" baskets', fontsize=12,y=1.08)\n",
    "plt.show()"
   ]
  },
  {
   "cell_type": "code",
   "execution_count": null,
   "metadata": {},
   "outputs": [],
   "source": []
  }
 ],
 "metadata": {
  "kernelspec": {
   "display_name": "Python 3",
   "language": "python",
   "name": "python3"
  },
  "language_info": {
   "codemirror_mode": {
    "name": "ipython",
    "version": 3
   },
   "file_extension": ".py",
   "mimetype": "text/x-python",
   "name": "python",
   "nbconvert_exporter": "python",
   "pygments_lexer": "ipython3",
   "version": "3.6.5"
  }
 },
 "nbformat": 4,
 "nbformat_minor": 2
}
